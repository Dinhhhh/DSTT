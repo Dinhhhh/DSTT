{
  "nbformat": 4,
  "nbformat_minor": 0,
  "metadata": {
    "colab": {
      "provenance": []
    },
    "kernelspec": {
      "name": "python3",
      "display_name": "Python 3"
    },
    "language_info": {
      "name": "python"
    }
  },
  "cells": [
    {
      "cell_type": "code",
      "execution_count": 1,
      "metadata": {
        "colab": {
          "base_uri": "https://localhost:8080/"
        },
        "id": "fR2dNomsk9uB",
        "outputId": "62fe2d36-5cf5-4e1c-ed81-57ba67fe14f1"
      },
      "outputs": [
        {
          "output_type": "stream",
          "name": "stdout",
          "text": [
            "Câu 1a:\n",
            "A + B = [3 3 1 5]\n",
            "3A - 2B = [  4 -11  13 -10]\n",
            "\n",
            "Câu 1b:\n",
            "Tích vô hướng A · B = -8\n",
            "Góc giữa A và B (độ) ≈ 108.376\n",
            "\n",
            "Câu 1c:\n",
            "C^T * C =\n",
            " [[ 5  0 -1]\n",
            " [ 0 14 10]\n",
            " [-1 10 17]]\n"
          ]
        }
      ],
      "source": [
        "import numpy as np\n",
        "import math\n",
        "\n",
        "# ===== Câu 1a =====\n",
        "A = np.array([2, -1, 3, 0])\n",
        "B = np.array([1, 4, -2, 5])\n",
        "\n",
        "A_plus_B = A + B\n",
        "three_A_minus_two_B = 3 * A - 2 * B\n",
        "\n",
        "print(\"Câu 1a:\")\n",
        "print(\"A + B =\", A_plus_B)\n",
        "print(\"3A - 2B =\", three_A_minus_two_B)\n",
        "\n",
        "# ===== Câu 1b =====\n",
        "dot_product = np.dot(A, B)\n",
        "norm_A = np.linalg.norm(A)\n",
        "norm_B = np.linalg.norm(B)\n",
        "cos_theta = dot_product / (norm_A * norm_B)\n",
        "theta_deg = np.degrees(np.arccos(cos_theta))\n",
        "\n",
        "print(\"\\nCâu 1b:\")\n",
        "print(\"Tích vô hướng A · B =\", dot_product)\n",
        "print(\"Góc giữa A và B (độ) ≈\", round(theta_deg, 3))\n",
        "\n",
        "# ===== Câu 1c =====\n",
        "C = np.array([\n",
        "    [1, 2, -1],\n",
        "    [0, 3, 4],\n",
        "    [2, -1, 0]\n",
        "])\n",
        "\n",
        "CT = C.T\n",
        "CTC = np.matmul(CT, C)\n",
        "\n",
        "print(\"\\nCâu 1c:\")\n",
        "print(\"C^T * C =\\n\", CTC)"
      ]
    },
    {
      "cell_type": "code",
      "source": [
        "import numpy as np\n",
        "\n",
        "# ===== Câu 2: Dữ liệu =====\n",
        "M = np.array([\n",
        "    [1, 2, 3, 0],\n",
        "    [4, 5, 6, 1],\n",
        "    [7, 8, 9, 2],\n",
        "    [0, 1, 1, 0]\n",
        "])\n",
        "\n",
        "N = np.array([\n",
        "    [0, 1, 2, 3],\n",
        "    [4, 5, 6, 7],\n",
        "    [8, 9, 10, 11],\n",
        "    [12, 13, 14, 15]\n",
        "])\n",
        "\n",
        "# ===== a) Tích M x N =====\n",
        "product_MN = np.matmul(M, N)\n",
        "\n",
        "print(\"Câu 2a: M x N =\")\n",
        "print(product_MN)\n",
        "\n",
        "# ===== b) Định thức của M =====\n",
        "det_M = np.linalg.det(M)\n",
        "print(\"\\nCâu 2b: Định thức của M =\", round(det_M, 2))\n",
        "\n",
        "if det_M == 0:\n",
        "    print(\"→ M không khả nghịch (vì det = 0)\")\n",
        "\n",
        "# ===== c) Hạng của N =====\n",
        "rank_N = np.linalg.matrix_rank(N)\n",
        "print(\"\\nCâu 2c: Hạng của N =\", rank_N)"
      ],
      "metadata": {
        "colab": {
          "base_uri": "https://localhost:8080/"
        },
        "id": "sBJM3kkVlhwL",
        "outputId": "dec02299-7947-472f-c000-a9b188cf9cf9"
      },
      "execution_count": 7,
      "outputs": [
        {
          "output_type": "stream",
          "name": "stdout",
          "text": [
            "Câu 2a: M x N =\n",
            "[[ 32  38  44  50]\n",
            " [ 80  96 112 128]\n",
            " [128 154 180 206]\n",
            " [ 12  14  16  18]]\n",
            "\n",
            "Câu 2b: Định thức của M = 0.0\n",
            "\n",
            "Câu 2c: Hạng của N = 2\n"
          ]
        }
      ]
    },
    {
      "cell_type": "code",
      "source": [
        "import numpy as np\n",
        "\n",
        "# ===== Câu 3: Dữ liệu =====\n",
        "P = np.array([\n",
        "    [2, 1, 0, 1],\n",
        "    [0, 3, 1, -1],\n",
        "    [1, 0, 4, 2],\n",
        "    [0, 1, 0, 3]\n",
        "])\n",
        "\n",
        "b = np.array([4, 7, 9, 5])\n",
        "\n",
        "# ===== a) Tính nghịch đảo của P =====\n",
        "try:\n",
        "    P_inv = np.linalg.inv(P)\n",
        "    print(\"Câu 3a: Ma trận P khả nghịch.\")\n",
        "    print(\"P⁻¹ =\\n\", np.round(P_inv, 3))\n",
        "except np.linalg.LinAlgError:\n",
        "    print(\"Câu 3a: Ma trận P không khả nghịch.\")\n",
        "\n",
        "# ===== b) Giải hệ Px = b =====\n",
        "x = np.dot(P_inv, b)\n",
        "print(\"\\nCâu 3b: Nghiệm của hệ là:\")\n",
        "print(\"x =\", np.round(x, 3))\n",
        "\n",
        "# ===== c) Kiểm tra nghiệm =====\n",
        "check = np.dot(P, x)\n",
        "print(\"\\nCâu 3c: Kiểm tra P * x =\")\n",
        "print(np.round(check, 3))\n",
        "print(\"→ Khớp với vector b:\", np.allclose(check, b))"
      ],
      "metadata": {
        "colab": {
          "base_uri": "https://localhost:8080/"
        },
        "id": "Pu-MzBGRlqug",
        "outputId": "c7a390a5-083d-49e1-fedc-abdedc4a61c5"
      },
      "execution_count": 8,
      "outputs": [
        {
          "output_type": "stream",
          "name": "stdout",
          "text": [
            "Câu 3a: Ma trận P khả nghịch.\n",
            "P⁻¹ =\n",
            " [[ 0.488 -0.093  0.023 -0.209]\n",
            " [ 0.035  0.279 -0.07   0.128]\n",
            " [-0.116  0.07   0.233 -0.093]\n",
            " [-0.012 -0.093  0.023  0.291]]\n",
            "\n",
            "Câu 3b: Nghiệm của hệ là:\n",
            "x = [0.465 2.105 1.651 0.965]\n",
            "\n",
            "Câu 3c: Kiểm tra P * x =\n",
            "[4. 7. 9. 5.]\n",
            "→ Khớp với vector b: True\n"
          ]
        }
      ]
    },
    {
      "cell_type": "code",
      "source": [
        "import numpy as np\n",
        "\n",
        "# ===== Câu 4: Ma trận Q =====\n",
        "Q = np.array([\n",
        "    [4, -1, 0],\n",
        "    [1, 3, -2],\n",
        "    [0, 1, 2]\n",
        "])\n",
        "\n",
        "# ===== a) Tìm giá trị riêng =====\n",
        "eigenvalues, eigenvectors = np.linalg.eig(Q)\n",
        "\n",
        "print(\"Câu 4a: Giá trị riêng (eigenvalues):\")\n",
        "print(np.round(eigenvalues, 3))\n",
        "\n",
        "# ===== b) Tìm vector riêng =====\n",
        "print(\"\\nCâu 4b: Vector riêng (cột ứng với từng giá trị riêng):\")\n",
        "print(np.round(eigenvectors, 3))\n",
        "\n",
        "# ===== c) Chuẩn hóa vector riêng =====\n",
        "print(\"\\nCâu 4c: Vector riêng sau khi chuẩn hóa:\")\n",
        "for vec in eigenvectors.T:\n",
        "    norm_vec = vec / np.linalg.norm(vec)\n",
        "    print(np.round(norm_vec, 3))\n"
      ],
      "metadata": {
        "colab": {
          "base_uri": "https://localhost:8080/"
        },
        "id": "sQHJnqP9l3yK",
        "outputId": "e423d700-9311-4c4a-ca14-b7a618340f5b"
      },
      "execution_count": 9,
      "outputs": [
        {
          "output_type": "stream",
          "name": "stdout",
          "text": [
            "Câu 4a: Giá trị riêng (eigenvalues):\n",
            "[3.453+0.j    2.773+1.468j 2.773-1.468j]\n",
            "\n",
            "Câu 4b: Vector riêng (cột ứng với từng giá trị riêng):\n",
            "[[ 0.833+0.j    -0.262-0.314j -0.262+0.314j]\n",
            " [ 0.455+0.j    -0.782+0.j    -0.782-0.j   ]\n",
            " [ 0.313+0.j    -0.22 +0.417j -0.22 -0.417j]]\n",
            "\n",
            "Câu 4c: Vector riêng sau khi chuẩn hóa:\n",
            "[0.833+0.j 0.455+0.j 0.313+0.j]\n",
            "[-0.262-0.314j -0.782+0.j    -0.22 +0.417j]\n",
            "[-0.262+0.314j -0.782+0.j    -0.22 -0.417j]\n"
          ]
        }
      ]
    },
    {
      "cell_type": "code",
      "source": [
        "import numpy as np\n",
        "\n",
        "# ===== Câu 5: Dữ liệu =====\n",
        "R = np.array([\n",
        "    [1, -2, 3],\n",
        "    [2, 0, 1],\n",
        "    [-1, 1, 4]\n",
        "])\n",
        "\n",
        "b = np.array([10, 8, 7])\n",
        "\n",
        "# ===== a) Giải hệ Rx = b =====\n",
        "x = np.linalg.solve(R, b)\n",
        "print(\"Câu 5a: Nghiệm của hệ Rx = b là:\")\n",
        "print(np.round(x, 3))\n",
        "\n",
        "# ===== b) Kiểm tra khả nghịch & giải lại hệ bằng nghịch đảo =====\n",
        "det_R = np.linalg.det(R)\n",
        "if det_R != 0:\n",
        "    R_inv = np.linalg.inv(R)\n",
        "    x2 = np.dot(R_inv, b)\n",
        "    print(\"\\nCâu 5b: Ma trận R khả nghịch (det ≠ 0)\")\n",
        "    print(\"Nghiệm bằng R⁻¹ · b:\", np.round(x2, 3))\n",
        "    print(\"Hai nghiệm có giống nhau không?\", np.allclose(x, x2))\n",
        "else:\n",
        "    print(\"\\nCâu 5b: Ma trận R không khả nghịch.\")\n",
        "\n",
        "# ===== c) Tính chuẩn Frobenius của R =====\n",
        "fro_norm = np.linalg.norm(R, 'fro')\n",
        "print(\"\\nCâu 5c: Chuẩn Frobenius của R =\", round(fro_norm, 3))"
      ],
      "metadata": {
        "colab": {
          "base_uri": "https://localhost:8080/"
        },
        "id": "Q4nibggJl5Sp",
        "outputId": "231f8ee3-9516-4510-f3f0-2fe64fbd5586"
      },
      "execution_count": 10,
      "outputs": [
        {
          "output_type": "stream",
          "name": "stdout",
          "text": [
            "Câu 5a: Nghiệm của hệ Rx = b là:\n",
            "[2.783 0.043 2.435]\n",
            "\n",
            "Câu 5b: Ma trận R khả nghịch (det ≠ 0)\n",
            "Nghiệm bằng R⁻¹ · b: [2.783 0.043 2.435]\n",
            "Hai nghiệm có giống nhau không? True\n",
            "\n",
            "Câu 5c: Chuẩn Frobenius của R = 6.083\n"
          ]
        }
      ]
    }
  ]
}